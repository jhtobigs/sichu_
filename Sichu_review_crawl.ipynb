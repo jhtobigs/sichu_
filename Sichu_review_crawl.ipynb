{
 "cells": [
  {
   "cell_type": "markdown",
   "metadata": {},
   "source": [
    "# 리뷰 크롤링"
   ]
  },
  {
   "cell_type": "code",
   "execution_count": 1,
   "metadata": {},
   "outputs": [],
   "source": [
    "import selenium \n",
    "from selenium import webdriver\n",
    "import pandas as pd\n",
    "import numpy as np\n",
    "from tqdm import tqdm_notebook\n",
    "import pickle\n",
    "from bs4 import BeautifulSoup as bs\n",
    "import requests\n",
    "import lxml.html\n",
    "import re"
   ]
  },
  {
   "cell_type": "code",
   "execution_count": 2,
   "metadata": {},
   "outputs": [],
   "source": [
    "header={\n",
    "    'Host': 'everytime.kr',\n",
    "    'Connection': 'keep-alive',\n",
    "    'Content-Length': '45',\n",
    "    'Accept':'*/*',\n",
    "    'Origin': 'https://everytime.kr',\n",
    "    'X-Requested-With': 'XMLHttpRequest',\n",
    "    'User-Agent': 'Mozilla/5.0 (Windows NT 10.0; Win64; x64) AppleWebKit/537.36 (KHTML, like Gecko) Chrome/79.0.3945.130 Safari/537.36',\n",
    "    'Content-Type': 'application/x-www-form-urlencoded; charset=UTF-8',\n",
    "    'Sec-Fetch-Site': 'same-origin',\n",
    "    'Sec-Fetch-Mode': 'cors',\n",
    "    'Referer': 'https://everytime.kr/',\n",
    "    'Accept-Encoding': 'gzip, deflate, br',\n",
    "    'Accept-Language': 'ko-KR,ko;q=0.9,en-US;q=0.8,en;q=0.7',\n",
    "    'Cookie': 'etsid=s%3AZDdSNuhS5AUdNj8pvHkGVqWM7HwX5QFI.RPVTNCOyipi1mrRYeV%2B7BfJ8DQa5Kal7bw%2BDtsQ4yKg; _ga=GA1.2.1837060412.1581574157; _gid=GA1.2.453030296.1581574157; _gat_gtag_UA_22022140_4=1'\n",
    "}"
   ]
  },
  {
   "cell_type": "code",
   "execution_count": 3,
   "metadata": {},
   "outputs": [],
   "source": [
    "df_sum = pd.read_pickle('lecture_processed.pickle')"
   ]
  },
  {
   "cell_type": "code",
   "execution_count": 4,
   "metadata": {},
   "outputs": [
    {
     "data": {
      "application/vnd.jupyter.widget-view+json": {
       "model_id": "53c1e6e5b1024df0a1bf911b83f91e65",
       "version_major": 2,
       "version_minor": 0
      },
      "text/plain": [
       "HBox(children=(IntProgress(value=0, max=13483), HTML(value='')))"
      ]
     },
     "metadata": {},
     "output_type": "display_data"
    },
    {
     "name": "stdout",
     "output_type": "stream",
     "text": [
      "\n"
     ]
    }
   ],
   "source": [
    "# 리뷰 크롤링\n",
    "crawl_codes = list(df_sum['링크'].apply(lambda x: re.sub('[^0-9]','',x)))\n",
    "\n",
    "nm = []\n",
    "pf =[]\n",
    "rev = []\n",
    "sc = [] \n",
    "details=[]\n",
    "\n",
    "for i in tqdm_notebook(crawl_codes):\n",
    "    \n",
    "    response = requests.post(\n",
    "        'https://api.everytime.kr/find/lecture/article/list',\n",
    "        headers=header,\n",
    "        data='school_id=38&limit_num=1000&lecture_id={}'.format(i)\n",
    "    )\n",
    "    reviews = bs(response.text,'xml')\n",
    "    try :\n",
    "        name = reviews.find('lecture')['name']\n",
    "        prof = reviews.find('lecture')['professor']\n",
    "    \n",
    "        detail={\n",
    "        'name' : name,\n",
    "        'prof' : prof,\n",
    "        'detail' : {\n",
    "            '출석':reviews.find('details')['assessment_attendance'],\n",
    "            '성적비율':reviews.find('details')['assessment_grade'],\n",
    "            '과제':reviews.find('details')['assessment_homework'],\n",
    "            '팀플':reviews.find('details')['assessment_team'],\n",
    "            '시험횟수':reviews.find('details')['exam_times']\n",
    "            }\n",
    "        }\n",
    "        details.append(detail)\n",
    "        for review in (reviews.findAll('article')) :\n",
    "            nm.append(name)\n",
    "            pf.append(prof)\n",
    "            rev.append(review['text'])\n",
    "            sc.append(review['rate'])\n",
    "    except :\n",
    "        pass"
   ]
  },
  {
   "cell_type": "code",
   "execution_count": 5,
   "metadata": {},
   "outputs": [],
   "source": [
    "with open('details.pickle','wb') as f:\n",
    "    pickle.dump(details,f)"
   ]
  },
  {
   "cell_type": "code",
   "execution_count": 6,
   "metadata": {},
   "outputs": [],
   "source": [
    "# DF로 전처리\n",
    "review_df = pd.DataFrame([rev,sc,nm,pf]).T\n",
    "review_df.columns=['review','score','name','prof']\n",
    "text = review_df['review']\n",
    "\n",
    "# 특수문자 제거, 공백 1개로 통일\n",
    "text = text.apply(lambda x:re.sub('\\n',' ',x))\n",
    "text = text.apply(lambda x:re.sub('\\r',' ',x))\n",
    "text = text.apply(lambda x:re.sub('[^가-힣|A-z|0-9]',' ',x))\n",
    "text = text.apply(lambda x:re.sub('[ ]+',' ',x))\n",
    "\n",
    "review_df['review'] = text\n",
    "review_df.to_pickle('review_0213.csv')"
   ]
  }
 ],
 "metadata": {
  "kernelspec": {
   "display_name": "Python 3",
   "language": "python",
   "name": "python3"
  },
  "language_info": {
   "codemirror_mode": {
    "name": "ipython",
    "version": 3
   },
   "file_extension": ".py",
   "mimetype": "text/x-python",
   "name": "python",
   "nbconvert_exporter": "python",
   "pygments_lexer": "ipython3",
   "version": "3.7.6"
  }
 },
 "nbformat": 4,
 "nbformat_minor": 4
}
