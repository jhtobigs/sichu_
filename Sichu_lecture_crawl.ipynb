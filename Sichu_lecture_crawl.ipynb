{
 "cells": [
  {
   "cell_type": "markdown",
   "metadata": {},
   "source": [
    "# 강의 정보 크롤링"
   ]
  },
  {
   "cell_type": "markdown",
   "metadata": {},
   "source": [
    "## 헤더 따기"
   ]
  },
  {
   "cell_type": "code",
   "execution_count": 8,
   "metadata": {},
   "outputs": [],
   "source": [
    "import selenium \n",
    "from selenium import webdriver\n",
    "import pandas as pd\n",
    "import numpy as np\n",
    "from tqdm import tqdm_notebook\n",
    "import pickle\n",
    "from bs4 import BeautifulSoup as bs\n",
    "import requests\n",
    "import lxml.html\n",
    "import re"
   ]
  },
  {
   "cell_type": "code",
   "execution_count": 9,
   "metadata": {},
   "outputs": [],
   "source": [
    "browser = webdriver.Chrome() "
   ]
  },
  {
   "cell_type": "code",
   "execution_count": 10,
   "metadata": {},
   "outputs": [],
   "source": [
    "browser.get('https://everytime.kr/timetable/2020/1')"
   ]
  },
  {
   "cell_type": "code",
   "execution_count": 11,
   "metadata": {},
   "outputs": [],
   "source": [
    "# 로그인\n",
    "browser.find_element_by_name('userid').send_keys('ID')\n",
    "browser.find_element_by_name('password').send_keys('Password')\n",
    "browser.find_element_by_xpath('//*[@id=\"container\"]/form/p[3]/input').click()"
   ]
  },
  {
   "cell_type": "code",
   "execution_count": 12,
   "metadata": {},
   "outputs": [],
   "source": [
    "header={\n",
    "    'Host': 'everytime.kr',\n",
    "    'Connection': 'keep-alive',\n",
    "    'Content-Length': '45',\n",
    "    'Accept':'*/*',\n",
    "    'Origin': 'https://everytime.kr',\n",
    "    'X-Requested-With': 'XMLHttpRequest',\n",
    "    'User-Agent': 'Mozilla/5.0 (Windows NT 10.0; Win64; x64) AppleWebKit/537.36 (KHTML, like Gecko) Chrome/79.0.3945.130 Safari/537.36',\n",
    "    'Content-Type': 'application/x-www-form-urlencoded; charset=UTF-8',\n",
    "    'Sec-Fetch-Site': 'same-origin',\n",
    "    'Sec-Fetch-Mode': 'cors',\n",
    "    'Referer': 'https://everytime.kr/',\n",
    "    'Accept-Encoding': 'gzip, deflate, br',\n",
    "    'Accept-Language': 'ko-KR,ko;q=0.9,en-US;q=0.8,en;q=0.7',\n",
    "    'Cookie': 'etsid=s%3AZDdSNuhS5AUdNj8pvHkGVqWM7HwX5QFI.RPVTNCOyipi1mrRYeV%2B7BfJ8DQa5Kal7bw%2BDtsQ4yKg; _ga=GA1.2.1837060412.1581574157; _gid=GA1.2.453030296.1581574157; _gat_gtag_UA_22022140_4=1'\n",
    "}"
   ]
  },
  {
   "cell_type": "markdown",
   "metadata": {},
   "source": [
    "## 소속코드 수집"
   ]
  },
  {
   "cell_type": "code",
   "execution_count": 13,
   "metadata": {},
   "outputs": [],
   "source": [
    "# 초기값 지정\n",
    "year = [2014,2015,2016,2017,2018,2019,2020]\n",
    "semester_code =[1,2]\n",
    "name=[]\n",
    "prof=[]\n",
    "prof_name = []\n",
    "types=[]\n",
    "class_code=[]\n",
    "score = []\n",
    "category = []\n",
    "time = []\n",
    "weight = []\n",
    "remarks = []\n",
    "link = []\n",
    "semester = []"
   ]
  },
  {
   "cell_type": "markdown",
   "metadata": {},
   "source": [
    "## 강의 정보 수집"
   ]
  },
  {
   "cell_type": "code",
   "execution_count": 15,
   "metadata": {},
   "outputs": [
    {
     "data": {
      "text/plain": [
       "<Response [200]>"
      ]
     },
     "execution_count": 15,
     "metadata": {},
     "output_type": "execute_result"
    }
   ],
   "source": [
    "lecture = requests.post(\n",
    "                'https://api.everytime.kr/find/timetable/subject/list',\n",
    "                headers = header,\n",
    "                data = 'categoryId=201066&campusId=62&year=2020&semester=1&limitNum=150&startNum=0')\n",
    "lecture"
   ]
  },
  {
   "cell_type": "code",
   "execution_count": 16,
   "metadata": {},
   "outputs": [
    {
     "data": {
      "application/vnd.jupyter.widget-view+json": {
       "model_id": "664f251870894e36bcf765dfb55e5e32",
       "version_major": 2,
       "version_minor": 0
      },
      "text/plain": [
       "HBox(children=(IntProgress(value=0, max=7), HTML(value='')))"
      ]
     },
     "metadata": {},
     "output_type": "display_data"
    },
    {
     "data": {
      "application/vnd.jupyter.widget-view+json": {
       "model_id": "a600214e229f49b9b7139a976023dc14",
       "version_major": 2,
       "version_minor": 0
      },
      "text/plain": [
       "HBox(children=(IntProgress(value=0, max=2), HTML(value='')))"
      ]
     },
     "metadata": {},
     "output_type": "display_data"
    },
    {
     "data": {
      "application/vnd.jupyter.widget-view+json": {
       "model_id": "ac840d8099e24b8cb74154458e25b701",
       "version_major": 2,
       "version_minor": 0
      },
      "text/plain": [
       "HBox(children=(IntProgress(value=0, max=2), HTML(value='')))"
      ]
     },
     "metadata": {},
     "output_type": "display_data"
    },
    {
     "data": {
      "application/vnd.jupyter.widget-view+json": {
       "model_id": "3b403cad0f754eefa35e47fadb4d9e6a",
       "version_major": 2,
       "version_minor": 0
      },
      "text/plain": [
       "HBox(children=(IntProgress(value=0, max=2), HTML(value='')))"
      ]
     },
     "metadata": {},
     "output_type": "display_data"
    },
    {
     "data": {
      "application/vnd.jupyter.widget-view+json": {
       "model_id": "090c31a20844470f972b719650b59418",
       "version_major": 2,
       "version_minor": 0
      },
      "text/plain": [
       "HBox(children=(IntProgress(value=0, max=2), HTML(value='')))"
      ]
     },
     "metadata": {},
     "output_type": "display_data"
    },
    {
     "data": {
      "application/vnd.jupyter.widget-view+json": {
       "model_id": "7f76a617cd5d4b408576ca7bfc7fc802",
       "version_major": 2,
       "version_minor": 0
      },
      "text/plain": [
       "HBox(children=(IntProgress(value=0, max=2), HTML(value='')))"
      ]
     },
     "metadata": {},
     "output_type": "display_data"
    },
    {
     "data": {
      "application/vnd.jupyter.widget-view+json": {
       "model_id": "5740c873c02f4ff8bb2772bdd2b4bd3d",
       "version_major": 2,
       "version_minor": 0
      },
      "text/plain": [
       "HBox(children=(IntProgress(value=0, max=2), HTML(value='')))"
      ]
     },
     "metadata": {},
     "output_type": "display_data"
    },
    {
     "data": {
      "application/vnd.jupyter.widget-view+json": {
       "model_id": "9dc2df5ed75243afa34d2506a59a7217",
       "version_major": 2,
       "version_minor": 0
      },
      "text/plain": [
       "HBox(children=(IntProgress(value=0, max=2), HTML(value='')))"
      ]
     },
     "metadata": {},
     "output_type": "display_data"
    }
   ],
   "source": [
    "# 강의 정보 얻기\n",
    "category_codes={}\n",
    "for y in tqdm_notebook(year):\n",
    "    for s in tqdm_notebook(semester_code):\n",
    "        if y == 2020 and s == 2:\n",
    "            break\n",
    "        # 크롤링 할 학기 지정\n",
    "        url = 'https://api.everytime.kr/find/timetable/subject/filter/list'\n",
    "        data = 'year={}&semester={}'.format(y,s)\n",
    "        \n",
    "        # 과목영역 코드북 생성\n",
    "        code = requests.post(url,headers=header,data=data)\n",
    "        parsed = bs(code.text,'xml')\n",
    "        code_dict={}\n",
    "        for i in parsed.findAll('category') :\n",
    "            try:\n",
    "                code_dict[i['id']] = [i['name'],i['parentId']]\n",
    "            except:\n",
    "                code_dict[i['id']] = [i['name'],'없음']\n",
    "                \n",
    "            \n",
    "        category_codes['-'.join([str(y),str(s)])] = code_dict\n",
    "        category_code = list(code_dict.keys())\n",
    "        \n",
    "\n",
    "        for i in category_code:\n",
    "            temps = []\n",
    "            start = 0\n",
    "            limit = 50\n",
    "            \n",
    "            while True:\n",
    "                    lecture = requests.post(\n",
    "                    'https://api.everytime.kr/find/timetable/subject/list',\n",
    "                    headers = header,\n",
    "                    data ='categoryId={}&campusId=62&year={}&semester={}&limitNum={}&startNum={}'.format(i,y,s,limit,start))\n",
    "                    lecture = bs(lecture.text,'xml')\n",
    "                    sub = lecture.findAll('subject')\n",
    "                    temps = temps + sub\n",
    "                    start += 50\n",
    "\n",
    "                    if len(sub) == 0:\n",
    "                        break\n",
    "\n",
    "            for temp in temps:\n",
    "                    name.append(temp['name'])\n",
    "                    prof.append([temp['professor']])\n",
    "                    prof_name.append(temp['professor'])\n",
    "                    types.append(temp['type'])\n",
    "                    class_code.append(temp['code'])\n",
    "                    score.append(temp['lectureRate'])\n",
    "                    category.append(i)\n",
    "                    time.append(temp['time'])\n",
    "                    weight.append(temp['credit'])\n",
    "                    remarks.append(temp['notice'])\n",
    "                    link.append('https://everytime.kr/lecture/view/{}'.format(temp['lectureId']))\n",
    "                    semester.append('-'.join([str(y),str(s)]))\n",
    "                    \n",
    "lecture_raw = [name,prof,prof_name,types,class_code,score,category,time,weight,remarks,link,semester]\n",
    "df = pd.DataFrame(lecture_raw).T\n",
    "\n",
    "df.drop(1,axis=1,inplace=True)\n",
    "df.columns=['과목명','교수명','과목분류','과목코드','평점','소속코드','시간','학점','비고','링크','학기']\n",
    "cols = ['과목코드','평점','소속코드','시간','학점','비고','링크','학기']\n",
    "\n",
    "# 데이터 저장\n",
    "df.to_pickle('lecture_raw.csv')\n",
    "with open ('category_codes.pickle','wb') as f:\n",
    "    pickle.dump(category_codes,f)"
   ]
  }
 ],
 "metadata": {
  "kernelspec": {
   "display_name": "Python 3",
   "language": "python",
   "name": "python3"
  },
  "language_info": {
   "codemirror_mode": {
    "name": "ipython",
    "version": 3
   },
   "file_extension": ".py",
   "mimetype": "text/x-python",
   "name": "python",
   "nbconvert_exporter": "python",
   "pygments_lexer": "ipython3",
   "version": "3.7.6"
  }
 },
 "nbformat": 4,
 "nbformat_minor": 4
}
